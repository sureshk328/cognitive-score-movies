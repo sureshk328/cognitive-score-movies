{
 "cells": [
  {
   "cell_type": "code",
   "execution_count": 1,
   "id": "8ceaf31f",
   "metadata": {},
   "outputs": [],
   "source": [
    "import tweepy\n",
    "import config"
   ]
  },
  {
   "cell_type": "code",
   "execution_count": 6,
   "id": "ed5d2c71",
   "metadata": {},
   "outputs": [
    {
     "name": "stdout",
     "output_type": "stream",
     "text": [
      "Response(data=[<Tweet id=1508844521781669894 text='Review: #SpiderManNoWayHome - NEGROMANCER 2.0: Review: \"SPIDER-MAN: No Way Home\" Brings it on Home https://t.co/2QMo9DHD1Y'>, <Tweet id=1508792534251810821 text=\"Thwip!, Swing into our bonus review episode on 'Spider-Man: No Way Home', where Jerd, Dan, Courtney and Massimo discuss what may be the best film featuring the wallcrawler.\\n\\nVideo - https://t.co/ZwAyuzgBZF\\n\\nAudio - https://t.co/ctdX2XkNCP\\n\\n#SpiderManNoWayHome #Oscars #Morbius\">, <Tweet id=1508717217680080901 text='Marvel Spider-Man No Way Home review by Con!!! https://t.co/E4HQ9Ek2gX #SpiderManNoWayHome #Spiderman #Marvel #tuesdaymotivations'>, <Tweet id=1508686036272099330 text='Marvel Spider-Man No Way Home review by Con!!! https://t.co/E4HQ9Ek2gX #SpiderManNoWayHome #Spiderman #Marvel #tuesdaymotivations #tuesdayvibe'>, <Tweet id=1508678591516758021 text='Marvel Spider-Man No Way Home review by Con!!! https://t.co/E4HQ9Ek2gX #SpiderManNoWayHome #Spiderman #Marvel #tuesdaymotivations #tuesdayvibe #TuesdayMorning'>, <Tweet id=1508645897101586432 text='Now that I have a chance to review the winners of the #2022Oscars, I just want to say there is NO WAY #Dune had better visual effects than #SpiderManNoWayHome. Giant sand worms are not more impressive than three Spider-men fighting bad guys who can turn into sand and electricity.'>, <Tweet id=1508570750546030599 text='https://t.co/GQKDzWvEEU SPIDERMAN:NO WAY HOME MOVIE REVIEW! #SpiderManNoWayHome'>, <Tweet id=1508483875990913028 text='Review:#SpiderManNoWayHome - NEGROMANCER 2.0: Review: \"SPIDER-MAN: No Way Home\" Brings it on Home https://t.co/2QMo9DHD1Y'>, <Tweet id=1508378029269168130 text='Marvel Spider-Man No Way Home review by Con!!! https://t.co/E4HQ9Ek2gX #SpiderManNoWayHome #Spiderman #Marvel #Oscars\\xa0\\xa0 #MondayMotivation'>, <Tweet id=1508337356830564353 text='Marvel Spider-Man No Way Home review by Con!!! https://t.co/E4HQ9Ek2gX #SpiderManNoWayHome #Spiderman #Marvel #Oscars\\xa0 #MondayMotivation #mondaythoughts'>], includes={}, errors=[], meta={'newest_id': '1508844521781669894', 'oldest_id': '1508337356830564353', 'result_count': 10, 'next_token': 'b26v89c19zqg8o3fpyqom1j7j98e4f7z4zdmek4c3zn99'})\n"
     ]
    }
   ],
   "source": [
    "client=tweepy.Client(bearer_token=config.BEARER_TOKEN)\n",
    "query=\"review #SpiderManNoWayHome -is:retweet lang:en -has:media\"\n",
    "response=client.search_recent_tweets(query=query, max_results=10)\n",
    "print(response)"
   ]
  },
  {
   "cell_type": "code",
   "execution_count": 7,
   "id": "25e56df6",
   "metadata": {},
   "outputs": [
    {
     "name": "stdout",
     "output_type": "stream",
     "text": [
      "Review: #SpiderManNoWayHome - NEGROMANCER 2.0: Review: \"SPIDER-MAN: No Way Home\" Brings it on Home https://t.co/2QMo9DHD1Y\n",
      "Thwip!, Swing into our bonus review episode on 'Spider-Man: No Way Home', where Jerd, Dan, Courtney and Massimo discuss what may be the best film featuring the wallcrawler.\n",
      "\n",
      "Video - https://t.co/ZwAyuzgBZF\n",
      "\n",
      "Audio - https://t.co/ctdX2XkNCP\n",
      "\n",
      "#SpiderManNoWayHome #Oscars #Morbius\n",
      "Marvel Spider-Man No Way Home review by Con!!! https://t.co/E4HQ9Ek2gX #SpiderManNoWayHome #Spiderman #Marvel #tuesdaymotivations\n",
      "Marvel Spider-Man No Way Home review by Con!!! https://t.co/E4HQ9Ek2gX #SpiderManNoWayHome #Spiderman #Marvel #tuesdaymotivations #tuesdayvibe\n",
      "Marvel Spider-Man No Way Home review by Con!!! https://t.co/E4HQ9Ek2gX #SpiderManNoWayHome #Spiderman #Marvel #tuesdaymotivations #tuesdayvibe #TuesdayMorning\n",
      "Now that I have a chance to review the winners of the #2022Oscars, I just want to say there is NO WAY #Dune had better visual effects than #SpiderManNoWayHome. Giant sand worms are not more impressive than three Spider-men fighting bad guys who can turn into sand and electricity.\n",
      "https://t.co/GQKDzWvEEU SPIDERMAN:NO WAY HOME MOVIE REVIEW! #SpiderManNoWayHome\n",
      "Review:#SpiderManNoWayHome - NEGROMANCER 2.0: Review: \"SPIDER-MAN: No Way Home\" Brings it on Home https://t.co/2QMo9DHD1Y\n",
      "Marvel Spider-Man No Way Home review by Con!!! https://t.co/E4HQ9Ek2gX #SpiderManNoWayHome #Spiderman #Marvel #Oscars   #MondayMotivation\n",
      "Marvel Spider-Man No Way Home review by Con!!! https://t.co/E4HQ9Ek2gX #SpiderManNoWayHome #Spiderman #Marvel #Oscars  #MondayMotivation #mondaythoughts\n"
     ]
    }
   ],
   "source": [
    "for tweet in response.data:\n",
    "    print(tweet.text)"
   ]
  },
  {
   "cell_type": "code",
   "execution_count": null,
   "id": "9a7f3c0c",
   "metadata": {},
   "outputs": [],
   "source": []
  }
 ],
 "metadata": {
  "kernelspec": {
   "display_name": "Python 3 (ipykernel)",
   "language": "python",
   "name": "python3"
  },
  "language_info": {
   "codemirror_mode": {
    "name": "ipython",
    "version": 3
   },
   "file_extension": ".py",
   "mimetype": "text/x-python",
   "name": "python",
   "nbconvert_exporter": "python",
   "pygments_lexer": "ipython3",
   "version": "3.9.7"
  }
 },
 "nbformat": 4,
 "nbformat_minor": 5
}
